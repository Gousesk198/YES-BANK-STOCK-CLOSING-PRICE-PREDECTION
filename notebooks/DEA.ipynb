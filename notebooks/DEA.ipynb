{
 "cells": [
  {
   "cell_type": "code",
   "execution_count": 15,
   "metadata": {},
   "outputs": [],
   "source": [
    "import pandas as pd\n",
    "import matplotlib.pyplot as plt"
   ]
  },
  {
   "cell_type": "markdown",
   "metadata": {},
   "source": [
    "### Data Set Loading"
   ]
  },
  {
   "cell_type": "code",
   "execution_count": 2,
   "metadata": {},
   "outputs": [],
   "source": [
    "file_path = \"F:/YES-BANK-STOCK-CLOSING-PRICE-PREDECTION/notebooks/data/data_YesBank_StockPrices.csv\"\n",
    "data = pd.read_csv(file_path)"
   ]
  },
  {
   "cell_type": "markdown",
   "metadata": {},
   "source": [
    "#### Dataset First View"
   ]
  },
  {
   "cell_type": "code",
   "execution_count": 5,
   "metadata": {},
   "outputs": [
    {
     "data": {
      "text/html": [
       "<div>\n",
       "<style scoped>\n",
       "    .dataframe tbody tr th:only-of-type {\n",
       "        vertical-align: middle;\n",
       "    }\n",
       "\n",
       "    .dataframe tbody tr th {\n",
       "        vertical-align: top;\n",
       "    }\n",
       "\n",
       "    .dataframe thead th {\n",
       "        text-align: right;\n",
       "    }\n",
       "</style>\n",
       "<table border=\"1\" class=\"dataframe\">\n",
       "  <thead>\n",
       "    <tr style=\"text-align: right;\">\n",
       "      <th></th>\n",
       "      <th>Date</th>\n",
       "      <th>Open</th>\n",
       "      <th>High</th>\n",
       "      <th>Low</th>\n",
       "      <th>Close</th>\n",
       "    </tr>\n",
       "  </thead>\n",
       "  <tbody>\n",
       "    <tr>\n",
       "      <th>0</th>\n",
       "      <td>Jul-05</td>\n",
       "      <td>13.00</td>\n",
       "      <td>14.00</td>\n",
       "      <td>11.25</td>\n",
       "      <td>12.46</td>\n",
       "    </tr>\n",
       "    <tr>\n",
       "      <th>1</th>\n",
       "      <td>Aug-05</td>\n",
       "      <td>12.58</td>\n",
       "      <td>14.88</td>\n",
       "      <td>12.55</td>\n",
       "      <td>13.42</td>\n",
       "    </tr>\n",
       "    <tr>\n",
       "      <th>2</th>\n",
       "      <td>Sep-05</td>\n",
       "      <td>13.48</td>\n",
       "      <td>14.87</td>\n",
       "      <td>12.27</td>\n",
       "      <td>13.30</td>\n",
       "    </tr>\n",
       "    <tr>\n",
       "      <th>3</th>\n",
       "      <td>Oct-05</td>\n",
       "      <td>13.20</td>\n",
       "      <td>14.47</td>\n",
       "      <td>12.40</td>\n",
       "      <td>12.99</td>\n",
       "    </tr>\n",
       "    <tr>\n",
       "      <th>4</th>\n",
       "      <td>Nov-05</td>\n",
       "      <td>13.35</td>\n",
       "      <td>13.88</td>\n",
       "      <td>12.88</td>\n",
       "      <td>13.41</td>\n",
       "    </tr>\n",
       "  </tbody>\n",
       "</table>\n",
       "</div>"
      ],
      "text/plain": [
       "     Date   Open   High    Low  Close\n",
       "0  Jul-05  13.00  14.00  11.25  12.46\n",
       "1  Aug-05  12.58  14.88  12.55  13.42\n",
       "2  Sep-05  13.48  14.87  12.27  13.30\n",
       "3  Oct-05  13.20  14.47  12.40  12.99\n",
       "4  Nov-05  13.35  13.88  12.88  13.41"
      ]
     },
     "execution_count": 5,
     "metadata": {},
     "output_type": "execute_result"
    }
   ],
   "source": [
    "data.head()"
   ]
  },
  {
   "cell_type": "code",
   "execution_count": 6,
   "metadata": {},
   "outputs": [
    {
     "data": {
      "text/html": [
       "<div>\n",
       "<style scoped>\n",
       "    .dataframe tbody tr th:only-of-type {\n",
       "        vertical-align: middle;\n",
       "    }\n",
       "\n",
       "    .dataframe tbody tr th {\n",
       "        vertical-align: top;\n",
       "    }\n",
       "\n",
       "    .dataframe thead th {\n",
       "        text-align: right;\n",
       "    }\n",
       "</style>\n",
       "<table border=\"1\" class=\"dataframe\">\n",
       "  <thead>\n",
       "    <tr style=\"text-align: right;\">\n",
       "      <th></th>\n",
       "      <th>Date</th>\n",
       "      <th>Open</th>\n",
       "      <th>High</th>\n",
       "      <th>Low</th>\n",
       "      <th>Close</th>\n",
       "    </tr>\n",
       "  </thead>\n",
       "  <tbody>\n",
       "    <tr>\n",
       "      <th>0</th>\n",
       "      <td>Jul-05</td>\n",
       "      <td>13.00</td>\n",
       "      <td>14.00</td>\n",
       "      <td>11.25</td>\n",
       "      <td>12.46</td>\n",
       "    </tr>\n",
       "    <tr>\n",
       "      <th>1</th>\n",
       "      <td>Aug-05</td>\n",
       "      <td>12.58</td>\n",
       "      <td>14.88</td>\n",
       "      <td>12.55</td>\n",
       "      <td>13.42</td>\n",
       "    </tr>\n",
       "    <tr>\n",
       "      <th>2</th>\n",
       "      <td>Sep-05</td>\n",
       "      <td>13.48</td>\n",
       "      <td>14.87</td>\n",
       "      <td>12.27</td>\n",
       "      <td>13.30</td>\n",
       "    </tr>\n",
       "    <tr>\n",
       "      <th>3</th>\n",
       "      <td>Oct-05</td>\n",
       "      <td>13.20</td>\n",
       "      <td>14.47</td>\n",
       "      <td>12.40</td>\n",
       "      <td>12.99</td>\n",
       "    </tr>\n",
       "    <tr>\n",
       "      <th>4</th>\n",
       "      <td>Nov-05</td>\n",
       "      <td>13.35</td>\n",
       "      <td>13.88</td>\n",
       "      <td>12.88</td>\n",
       "      <td>13.41</td>\n",
       "    </tr>\n",
       "    <tr>\n",
       "      <th>...</th>\n",
       "      <td>...</td>\n",
       "      <td>...</td>\n",
       "      <td>...</td>\n",
       "      <td>...</td>\n",
       "      <td>...</td>\n",
       "    </tr>\n",
       "    <tr>\n",
       "      <th>180</th>\n",
       "      <td>Jul-20</td>\n",
       "      <td>25.60</td>\n",
       "      <td>28.30</td>\n",
       "      <td>11.10</td>\n",
       "      <td>11.95</td>\n",
       "    </tr>\n",
       "    <tr>\n",
       "      <th>181</th>\n",
       "      <td>Aug-20</td>\n",
       "      <td>12.00</td>\n",
       "      <td>17.16</td>\n",
       "      <td>11.85</td>\n",
       "      <td>14.37</td>\n",
       "    </tr>\n",
       "    <tr>\n",
       "      <th>182</th>\n",
       "      <td>Sep-20</td>\n",
       "      <td>14.30</td>\n",
       "      <td>15.34</td>\n",
       "      <td>12.75</td>\n",
       "      <td>13.15</td>\n",
       "    </tr>\n",
       "    <tr>\n",
       "      <th>183</th>\n",
       "      <td>Oct-20</td>\n",
       "      <td>13.30</td>\n",
       "      <td>14.01</td>\n",
       "      <td>12.11</td>\n",
       "      <td>12.42</td>\n",
       "    </tr>\n",
       "    <tr>\n",
       "      <th>184</th>\n",
       "      <td>Nov-20</td>\n",
       "      <td>12.41</td>\n",
       "      <td>14.90</td>\n",
       "      <td>12.21</td>\n",
       "      <td>14.67</td>\n",
       "    </tr>\n",
       "  </tbody>\n",
       "</table>\n",
       "<p>185 rows × 5 columns</p>\n",
       "</div>"
      ],
      "text/plain": [
       "       Date   Open   High    Low  Close\n",
       "0    Jul-05  13.00  14.00  11.25  12.46\n",
       "1    Aug-05  12.58  14.88  12.55  13.42\n",
       "2    Sep-05  13.48  14.87  12.27  13.30\n",
       "3    Oct-05  13.20  14.47  12.40  12.99\n",
       "4    Nov-05  13.35  13.88  12.88  13.41\n",
       "..      ...    ...    ...    ...    ...\n",
       "180  Jul-20  25.60  28.30  11.10  11.95\n",
       "181  Aug-20  12.00  17.16  11.85  14.37\n",
       "182  Sep-20  14.30  15.34  12.75  13.15\n",
       "183  Oct-20  13.30  14.01  12.11  12.42\n",
       "184  Nov-20  12.41  14.90  12.21  14.67\n",
       "\n",
       "[185 rows x 5 columns]"
      ]
     },
     "execution_count": 6,
     "metadata": {},
     "output_type": "execute_result"
    }
   ],
   "source": [
    "data"
   ]
  },
  {
   "cell_type": "code",
   "execution_count": 7,
   "metadata": {},
   "outputs": [
    {
     "data": {
      "text/plain": [
       "<bound method NDFrame.tail of        Date   Open   High    Low  Close\n",
       "0    Jul-05  13.00  14.00  11.25  12.46\n",
       "1    Aug-05  12.58  14.88  12.55  13.42\n",
       "2    Sep-05  13.48  14.87  12.27  13.30\n",
       "3    Oct-05  13.20  14.47  12.40  12.99\n",
       "4    Nov-05  13.35  13.88  12.88  13.41\n",
       "..      ...    ...    ...    ...    ...\n",
       "180  Jul-20  25.60  28.30  11.10  11.95\n",
       "181  Aug-20  12.00  17.16  11.85  14.37\n",
       "182  Sep-20  14.30  15.34  12.75  13.15\n",
       "183  Oct-20  13.30  14.01  12.11  12.42\n",
       "184  Nov-20  12.41  14.90  12.21  14.67\n",
       "\n",
       "[185 rows x 5 columns]>"
      ]
     },
     "execution_count": 7,
     "metadata": {},
     "output_type": "execute_result"
    }
   ],
   "source": [
    "data.tail"
   ]
  },
  {
   "cell_type": "markdown",
   "metadata": {},
   "source": [
    "#### Dataset Rows & Columns count"
   ]
  },
  {
   "cell_type": "code",
   "execution_count": 8,
   "metadata": {},
   "outputs": [
    {
     "name": "stdout",
     "output_type": "stream",
     "text": [
      "The DataFrame has 185 rows and 5 columns.\n"
     ]
    }
   ],
   "source": [
    "num_rows, num_columns = data.shape\n",
    "print(f\"The DataFrame has {num_rows} rows and {num_columns} columns.\")"
   ]
  },
  {
   "cell_type": "code",
   "execution_count": 9,
   "metadata": {},
   "outputs": [
    {
     "data": {
      "text/plain": [
       "925"
      ]
     },
     "execution_count": 9,
     "metadata": {},
     "output_type": "execute_result"
    }
   ],
   "source": [
    "data.size"
   ]
  },
  {
   "cell_type": "markdown",
   "metadata": {},
   "source": [
    "###  Dataset Information"
   ]
  },
  {
   "cell_type": "code",
   "execution_count": 10,
   "metadata": {},
   "outputs": [
    {
     "name": "stdout",
     "output_type": "stream",
     "text": [
      "<class 'pandas.core.frame.DataFrame'>\n",
      "RangeIndex: 185 entries, 0 to 184\n",
      "Data columns (total 5 columns):\n",
      " #   Column  Non-Null Count  Dtype  \n",
      "---  ------  --------------  -----  \n",
      " 0   Date    185 non-null    object \n",
      " 1   Open    185 non-null    float64\n",
      " 2   High    185 non-null    float64\n",
      " 3   Low     185 non-null    float64\n",
      " 4   Close   185 non-null    float64\n",
      "dtypes: float64(4), object(1)\n",
      "memory usage: 7.4+ KB\n"
     ]
    }
   ],
   "source": [
    "data.info()"
   ]
  },
  {
   "cell_type": "markdown",
   "metadata": {},
   "source": [
    "####  Duplicate Values"
   ]
  },
  {
   "cell_type": "code",
   "execution_count": 13,
   "metadata": {},
   "outputs": [
    {
     "data": {
      "text/plain": [
       "0"
      ]
     },
     "execution_count": 13,
     "metadata": {},
     "output_type": "execute_result"
    }
   ],
   "source": [
    "# Dataset Duplicate Value Count\n",
    "len(data[data.duplicated()])"
   ]
  },
  {
   "cell_type": "markdown",
   "metadata": {},
   "source": [
    "#### Missing Values/Null Values"
   ]
  },
  {
   "cell_type": "code",
   "execution_count": 14,
   "metadata": {},
   "outputs": [
    {
     "data": {
      "text/plain": [
       "Date     0\n",
       "Open     0\n",
       "High     0\n",
       "Low      0\n",
       "Close    0\n",
       "dtype: int64"
      ]
     },
     "execution_count": 14,
     "metadata": {},
     "output_type": "execute_result"
    }
   ],
   "source": [
    "# Missing Values/Null Values Count\n",
    "data.isnull().sum()\n"
   ]
  },
  {
   "cell_type": "code",
   "execution_count": 20,
   "metadata": {},
   "outputs": [
    {
     "data": {
      "image/png": "[encoded data removed]",
      "text/plain": [
       "<Figure size 500x400 with 1 Axes>"
      ]
     },
     "metadata": {},
     "output_type": "display_data"
    }
   ],
   "source": [
    "plt.figure(figsize=(5, 4))\n",
    "missing_counts = data.isnull().sum()\n",
    "missing_counts.plot(kind='bar')\n",
    "plt.title('Missing Values Bar Plot')\n",
    "plt.xlabel('Columns')\n",
    "plt.ylabel('Missing Value Count')\n",
    "plt.show()\n"
   ]
  },
  {
   "cell_type": "markdown",
   "metadata": {},
   "source": [
    "### Understanding Your Variables"
   ]
  },
  {
   "cell_type": "code",
   "execution_count": 21,
   "metadata": {},
   "outputs": [
    {
     "data": {
      "text/plain": [
       "Index(['Date', 'Open', 'High', 'Low', 'Close'], dtype='object')"
      ]
     },
     "execution_count": 21,
     "metadata": {},
     "output_type": "execute_result"
    }
   ],
   "source": [
    "# Dataset Columns\n",
    "data.columns"
   ]
  },
  {
   "cell_type": "code",
   "execution_count": 22,
   "metadata": {},
   "outputs": [
    {
     "data": {
      "text/html": [
       "<div>\n",
       "<style scoped>\n",
       "    .dataframe tbody tr th:only-of-type {\n",
       "        vertical-align: middle;\n",
       "    }\n",
       "\n",
       "    .dataframe tbody tr th {\n",
       "        vertical-align: top;\n",
       "    }\n",
       "\n",
       "    .dataframe thead th {\n",
       "        text-align: right;\n",
       "    }\n",
       "</style>\n",
       "<table border=\"1\" class=\"dataframe\">\n",
       "  <thead>\n",
       "    <tr style=\"text-align: right;\">\n",
       "      <th></th>\n",
       "      <th>Date</th>\n",
       "      <th>Open</th>\n",
       "      <th>High</th>\n",
       "      <th>Low</th>\n",
       "      <th>Close</th>\n",
       "    </tr>\n",
       "  </thead>\n",
       "  <tbody>\n",
       "    <tr>\n",
       "      <th>count</th>\n",
       "      <td>185</td>\n",
       "      <td>185.000000</td>\n",
       "      <td>185.000000</td>\n",
       "      <td>185.000000</td>\n",
       "      <td>185.000000</td>\n",
       "    </tr>\n",
       "    <tr>\n",
       "      <th>unique</th>\n",
       "      <td>185</td>\n",
       "      <td>NaN</td>\n",
       "      <td>NaN</td>\n",
       "      <td>NaN</td>\n",
       "      <td>NaN</td>\n",
       "    </tr>\n",
       "    <tr>\n",
       "      <th>top</th>\n",
       "      <td>Jul-05</td>\n",
       "      <td>NaN</td>\n",
       "      <td>NaN</td>\n",
       "      <td>NaN</td>\n",
       "      <td>NaN</td>\n",
       "    </tr>\n",
       "    <tr>\n",
       "      <th>freq</th>\n",
       "      <td>1</td>\n",
       "      <td>NaN</td>\n",
       "      <td>NaN</td>\n",
       "      <td>NaN</td>\n",
       "      <td>NaN</td>\n",
       "    </tr>\n",
       "    <tr>\n",
       "      <th>mean</th>\n",
       "      <td>NaN</td>\n",
       "      <td>105.541405</td>\n",
       "      <td>116.104324</td>\n",
       "      <td>94.947838</td>\n",
       "      <td>105.204703</td>\n",
       "    </tr>\n",
       "    <tr>\n",
       "      <th>std</th>\n",
       "      <td>NaN</td>\n",
       "      <td>98.879850</td>\n",
       "      <td>106.333497</td>\n",
       "      <td>91.219415</td>\n",
       "      <td>98.583153</td>\n",
       "    </tr>\n",
       "    <tr>\n",
       "      <th>min</th>\n",
       "      <td>NaN</td>\n",
       "      <td>10.000000</td>\n",
       "      <td>11.240000</td>\n",
       "      <td>5.550000</td>\n",
       "      <td>9.980000</td>\n",
       "    </tr>\n",
       "    <tr>\n",
       "      <th>25%</th>\n",
       "      <td>NaN</td>\n",
       "      <td>33.800000</td>\n",
       "      <td>36.140000</td>\n",
       "      <td>28.510000</td>\n",
       "      <td>33.450000</td>\n",
       "    </tr>\n",
       "    <tr>\n",
       "      <th>50%</th>\n",
       "      <td>NaN</td>\n",
       "      <td>62.980000</td>\n",
       "      <td>72.550000</td>\n",
       "      <td>58.000000</td>\n",
       "      <td>62.540000</td>\n",
       "    </tr>\n",
       "    <tr>\n",
       "      <th>75%</th>\n",
       "      <td>NaN</td>\n",
       "      <td>153.000000</td>\n",
       "      <td>169.190000</td>\n",
       "      <td>138.350000</td>\n",
       "      <td>153.300000</td>\n",
       "    </tr>\n",
       "    <tr>\n",
       "      <th>max</th>\n",
       "      <td>NaN</td>\n",
       "      <td>369.950000</td>\n",
       "      <td>404.000000</td>\n",
       "      <td>345.500000</td>\n",
       "      <td>367.900000</td>\n",
       "    </tr>\n",
       "  </tbody>\n",
       "</table>\n",
       "</div>"
      ],
      "text/plain": [
       "          Date        Open        High         Low       Close\n",
       "count      185  185.000000  185.000000  185.000000  185.000000\n",
       "unique     185         NaN         NaN         NaN         NaN\n",
       "top     Jul-05         NaN         NaN         NaN         NaN\n",
       "freq         1         NaN         NaN         NaN         NaN\n",
       "mean       NaN  105.541405  116.104324   94.947838  105.204703\n",
       "std        NaN   98.879850  106.333497   91.219415   98.583153\n",
       "min        NaN   10.000000   11.240000    5.550000    9.980000\n",
       "25%        NaN   33.800000   36.140000   28.510000   33.450000\n",
       "50%        NaN   62.980000   72.550000   58.000000   62.540000\n",
       "75%        NaN  153.000000  169.190000  138.350000  153.300000\n",
       "max        NaN  369.950000  404.000000  345.500000  367.900000"
      ]
     },
     "execution_count": 22,
     "metadata": {},
     "output_type": "execute_result"
    }
   ],
   "source": [
    "# Dataset Describe\n",
    "data.describe(include='all')"
   ]
  },
  {
   "cell_type": "code",
   "execution_count": 23,
   "metadata": {},
   "outputs": [
    {
     "data": {
      "text/html": [
       "<div>\n",
       "<style scoped>\n",
       "    .dataframe tbody tr th:only-of-type {\n",
       "        vertical-align: middle;\n",
       "    }\n",
       "\n",
       "    .dataframe tbody tr th {\n",
       "        vertical-align: top;\n",
       "    }\n",
       "\n",
       "    .dataframe thead th {\n",
       "        text-align: right;\n",
       "    }\n",
       "</style>\n",
       "<table border=\"1\" class=\"dataframe\">\n",
       "  <thead>\n",
       "    <tr style=\"text-align: right;\">\n",
       "      <th></th>\n",
       "      <th>Open</th>\n",
       "      <th>High</th>\n",
       "      <th>Low</th>\n",
       "      <th>Close</th>\n",
       "    </tr>\n",
       "  </thead>\n",
       "  <tbody>\n",
       "    <tr>\n",
       "      <th>count</th>\n",
       "      <td>185.000000</td>\n",
       "      <td>185.000000</td>\n",
       "      <td>185.000000</td>\n",
       "      <td>185.000000</td>\n",
       "    </tr>\n",
       "    <tr>\n",
       "      <th>mean</th>\n",
       "      <td>105.541405</td>\n",
       "      <td>116.104324</td>\n",
       "      <td>94.947838</td>\n",
       "      <td>105.204703</td>\n",
       "    </tr>\n",
       "    <tr>\n",
       "      <th>std</th>\n",
       "      <td>98.879850</td>\n",
       "      <td>106.333497</td>\n",
       "      <td>91.219415</td>\n",
       "      <td>98.583153</td>\n",
       "    </tr>\n",
       "    <tr>\n",
       "      <th>min</th>\n",
       "      <td>10.000000</td>\n",
       "      <td>11.240000</td>\n",
       "      <td>5.550000</td>\n",
       "      <td>9.980000</td>\n",
       "    </tr>\n",
       "    <tr>\n",
       "      <th>25%</th>\n",
       "      <td>33.800000</td>\n",
       "      <td>36.140000</td>\n",
       "      <td>28.510000</td>\n",
       "      <td>33.450000</td>\n",
       "    </tr>\n",
       "    <tr>\n",
       "      <th>50%</th>\n",
       "      <td>62.980000</td>\n",
       "      <td>72.550000</td>\n",
       "      <td>58.000000</td>\n",
       "      <td>62.540000</td>\n",
       "    </tr>\n",
       "    <tr>\n",
       "      <th>75%</th>\n",
       "      <td>153.000000</td>\n",
       "      <td>169.190000</td>\n",
       "      <td>138.350000</td>\n",
       "      <td>153.300000</td>\n",
       "    </tr>\n",
       "    <tr>\n",
       "      <th>max</th>\n",
       "      <td>369.950000</td>\n",
       "      <td>404.000000</td>\n",
       "      <td>345.500000</td>\n",
       "      <td>367.900000</td>\n",
       "    </tr>\n",
       "  </tbody>\n",
       "</table>\n",
       "</div>"
      ],
      "text/plain": [
       "             Open        High         Low       Close\n",
       "count  185.000000  185.000000  185.000000  185.000000\n",
       "mean   105.541405  116.104324   94.947838  105.204703\n",
       "std     98.879850  106.333497   91.219415   98.583153\n",
       "min     10.000000   11.240000    5.550000    9.980000\n",
       "25%     33.800000   36.140000   28.510000   33.450000\n",
       "50%     62.980000   72.550000   58.000000   62.540000\n",
       "75%    153.000000  169.190000  138.350000  153.300000\n",
       "max    369.950000  404.000000  345.500000  367.900000"
      ]
     },
     "execution_count": 23,
     "metadata": {},
     "output_type": "execute_result"
    }
   ],
   "source": [
    "data.describe()"
   ]
  },
  {
   "cell_type": "markdown",
   "metadata": {},
   "source": [
    "### Variables Description"
   ]
  },
  {
   "cell_type": "markdown",
   "metadata": {},
   "source": [
    "Date - Date of the record. It has monthly dates from July 2005 to November 2020. data type is object need to change into datetime\n",
    "\n",
    "Open- opening price of the share/stock (Numerical)\n",
    "\n",
    "High - Highest price of the share for that day (Numerical)\n",
    "\n",
    "Low - Lowest Price of the share for that day (Numerical)\n",
    "\n",
    "Close - Closing price of the share for that day (Numerical)"
   ]
  },
  {
   "cell_type": "markdown",
   "metadata": {},
   "source": []
  }
 ],
 "metadata": {
  "kernelspec": {
   "display_name": "Python 3",
   "language": "python",
   "name": "python3"
  },
  "language_info": {
   "codemirror_mode": {
    "name": "ipython",
    "version": 3
   },
   "file_extension": ".py",
   "mimetype": "text/x-python",
   "name": "python",
   "nbconvert_exporter": "python",
   "pygments_lexer": "ipython3",
   "version": "3.8.18"
  }
 },
 "nbformat": 4,
 "nbformat_minor": 2
}
